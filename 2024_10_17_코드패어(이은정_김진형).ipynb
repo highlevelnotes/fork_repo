{
  "nbformat": 4,
  "nbformat_minor": 0,
  "metadata": {
    "colab": {
      "provenance": [],
      "include_colab_link": true
    },
    "kernelspec": {
      "name": "python3",
      "display_name": "Python 3"
    },
    "language_info": {
      "name": "python"
    }
  },
  "cells": [
    {
      "cell_type": "markdown",
      "metadata": {
        "id": "view-in-github",
        "colab_type": "text"
      },
      "source": [
        "<a href=\"https://colab.research.google.com/github/seogideogi/first-repository/blob/master/2024_10_17_%EC%BD%94%EB%93%9C%ED%8C%A8%EC%96%B4(%EC%9D%B4%EC%9D%80%EC%A0%95_%EA%B9%80%EC%A7%84%ED%98%95).ipynb\" target=\"_parent\"><img src=\"https://colab.research.google.com/assets/colab-badge.svg\" alt=\"Open In Colab\"/></a>"
      ]
    },
    {
      "cell_type": "markdown",
      "source": [],
      "metadata": {
        "id": "KWcDhyMCFlat"
      }
    },
    {
      "cell_type": "markdown",
      "source": [],
      "metadata": {
        "id": "YKOYIKLkFlt1"
      }
    },
    {
      "cell_type": "markdown",
      "source": [],
      "metadata": {
        "id": "OBJeJJAvFkWN"
      }
    },
    {
      "cell_type": "markdown",
      "source": [],
      "metadata": {
        "id": "RMvqE5fHFjX5"
      }
    },
    {
      "cell_type": "code",
      "source": [
        "import random\n",
        "\n",
        "class Account:\n",
        "    # 클래스 변수 설정: 은행 이름과 계좌 개수\n",
        "    bank_name = \"SC은행\"\n",
        "    account_count = 0\n",
        "\n",
        "    def __init__(self, owner, initial_balance):\n",
        "        # 예금주와 초기 잔액 설정\n",
        "        self.owner = owner\n",
        "        self.balance = initial_balance\n",
        "        # 계좌번호는 랜덤하게 생성\n",
        "        self.account_number = self.generate_account_number()\n",
        "        # 입금 횟수 추적 변수 초기화\n",
        "        self.deposit_count = 0\n",
        "        # 계좌 객체가 생성될 때마다 account_count를 증가\n",
        "        Account.account_count += 1\n",
        "\n",
        "    # 계좌번호 생성 메서드\n",
        "    def generate_account_number(self):\n",
        "        # 3자리-2자리-6자리 형식의 계좌번호 생성\n",
        "        part1 = random.randint(100, 999)\n",
        "        part2 = random.randint(10, 99)\n",
        "        part3 = random.randint(100000, 999999)\n",
        "        return f\"{part1}-{part2}-{part3}\"\n",
        "\n",
        "    # 클래스 메서드: 현재까지 생성된 계좌 수 반환\n",
        "    @classmethod\n",
        "    def get_account_num(cls):\n",
        "        return cls.account_count\n",
        "\n",
        "    # 입금 메서드\n",
        "    def deposit(self, amount):\n",
        "        if amount < 1:\n",
        "            print(\"입금은 최소 1원 이상이어야 합니다.\")\n",
        "        else:\n",
        "            self.balance += amount\n",
        "            self.deposit_count += 1\n",
        "            print(f\"{amount}원이 입금되었습니다. 현재 잔액: {self.balance}원\")\n",
        "            # 입금 횟수가 5회일 때 이자 지급\n",
        "            if self.deposit_count % 5 == 0:\n",
        "                self.add_interest()\n",
        "\n",
        "    # 이자 지급 메서드\n",
        "    def add_interest(self):\n",
        "        interest = self.balance * 0.01  # 1% 이자 계산\n",
        "        self.balance += interest\n",
        "        print(f\"이자 {interest}원이 지급되었습니다. 현재 잔액: {self.balance}원\")\n",
        "\n",
        "    # 출금 메서드\n",
        "    def withdraw(self, amount):\n",
        "        if amount > self.balance:\n",
        "            print(\"잔액이 부족하여 출금할 수 없습니다.\")\n",
        "        else:\n",
        "            self.balance -= amount\n",
        "            print(f\"{amount}원이 출금되었습니다. 현재 잔액: {self.balance}원\")\n",
        "\n",
        "    def display_info(self) :\n",
        "        return f\"은행 이름: {self.bank_name} 예금주: {self.owner} 계좌번호: {self.account_number} 잔액: {format(self.balance, '')}원\"\n",
        "\n",
        "    # 입금 내역 출력 메서드\n",
        "    def deposit_history(self):\n",
        "        print(\"입금 내역:\")\n",
        "        for idx, amount in enumerate(self.deposit_history_list, 1):\n",
        "            print(f\"{idx}. {amount}원\")\n",
        "\n",
        "    # 출금 내역 출력 메서드\n",
        "    def withdraw_history(self):\n",
        "        print(\"출금 내역:\")\n",
        "        for idx, amount in enumerate(self.withdraw_history_list, 1):\n",
        "            print(f\"{idx}. {amount}원\")\n",
        "\n",
        "\n",
        "    # 객체 정보 출력 메서드\n",
        "    def __str__(self):\n",
        "        return f\"은행 이름: {self.bank_name}\\n예금주: {self.owner}\\n계좌번호: {self.account_number}\\n잔액: {self.balance}원\"\n",
        "\n",
        "# 여러 Account 객체를 생성하고 리스트에 저장\n",
        "account1 = Account(\"홍길동\", 1000000)\n",
        "account2 = Account(\"김영희\", 500000)\n",
        "account3 = Account(\"이철수\", 1500000)\n",
        "\n",
        "# 생성된 인스턴스를 리스트에 저장\n",
        "accounts = [account1, account2, account3]\n",
        "\n",
        "# 잔고가 100만원 이상인 고객의 정보만 출력\n",
        "print(\"잔고가 100만원 이상인 고객 정보:\")\n",
        "for account in accounts:\n",
        "    if account.balance >= 1000000:\n",
        "        print(account)\n",
        "        print(\"-\" * 30)\n",
        "\n",
        "# 예시로 Account 객체를 생성하고 입출금 테스트\n",
        "account = Account(\"홍길동\", 1000000)\n",
        "account.deposit(100000)  # 1번째 입금\n",
        "account.deposit(200000)  # 2번째 입금\n",
        "account.withdraw(50000)  # 1번째 출금\n",
        "account.deposit(300000)  # 3번째 입금\n",
        "account.withdraw(100000)  # 2번째 출금\n",
        "\n",
        "# 입금 내역 출력\n",
        "account.deposit_history()\n",
        "\n",
        "# 출금 내역 출력\n",
        "account.withdraw_history()\n",
        "\n",
        "# 총 생성된 계좌 수 출력\n",
        "print(f\"총 생성된 계좌 수: {Account.get_account_num()}\")\n"
      ],
      "metadata": {
        "colab": {
          "base_uri": "https://localhost:8080/",
          "height": 661
        },
        "id": "qN5eku6SRd5n",
        "outputId": "eab57730-20b1-4974-b35b-6bb14482c4e7"
      },
      "execution_count": null,
      "outputs": [
        {
          "output_type": "stream",
          "name": "stdout",
          "text": [
            "잔고가 100만원 이상인 고객 정보:\n",
            "은행 이름: SC은행\n",
            "예금주: 홍길동\n",
            "계좌번호: 916-30-984734\n",
            "잔액: 1000000원\n",
            "------------------------------\n",
            "은행 이름: SC은행\n",
            "예금주: 이철수\n",
            "계좌번호: 756-46-864689\n",
            "잔액: 1500000원\n",
            "------------------------------\n",
            "100000원이 입금되었습니다. 현재 잔액: 1100000원\n",
            "200000원이 입금되었습니다. 현재 잔액: 1300000원\n",
            "50000원이 출금되었습니다. 현재 잔액: 1250000원\n",
            "300000원이 입금되었습니다. 현재 잔액: 1550000원\n",
            "100000원이 출금되었습니다. 현재 잔액: 1450000원\n",
            "입금 내역:\n"
          ]
        },
        {
          "output_type": "error",
          "ename": "AttributeError",
          "evalue": "'Account' object has no attribute 'deposit_history_list'",
          "traceback": [
            "\u001b[0;31m---------------------------------------------------------------------------\u001b[0m",
            "\u001b[0;31mAttributeError\u001b[0m                            Traceback (most recent call last)",
            "\u001b[0;32m<ipython-input-8-1a4628254ecc>\u001b[0m in \u001b[0;36m<cell line: 99>\u001b[0;34m()\u001b[0m\n\u001b[1;32m     97\u001b[0m \u001b[0;34m\u001b[0m\u001b[0m\n\u001b[1;32m     98\u001b[0m \u001b[0;31m# 입금 내역 출력\u001b[0m\u001b[0;34m\u001b[0m\u001b[0;34m\u001b[0m\u001b[0m\n\u001b[0;32m---> 99\u001b[0;31m \u001b[0maccount\u001b[0m\u001b[0;34m.\u001b[0m\u001b[0mdeposit_history\u001b[0m\u001b[0;34m(\u001b[0m\u001b[0;34m)\u001b[0m\u001b[0;34m\u001b[0m\u001b[0;34m\u001b[0m\u001b[0m\n\u001b[0m\u001b[1;32m    100\u001b[0m \u001b[0;34m\u001b[0m\u001b[0m\n\u001b[1;32m    101\u001b[0m \u001b[0;31m# 출금 내역 출력\u001b[0m\u001b[0;34m\u001b[0m\u001b[0;34m\u001b[0m\u001b[0m\n",
            "\u001b[0;32m<ipython-input-8-1a4628254ecc>\u001b[0m in \u001b[0;36mdeposit_history\u001b[0;34m(self)\u001b[0m\n\u001b[1;32m     59\u001b[0m     \u001b[0;32mdef\u001b[0m \u001b[0mdeposit_history\u001b[0m\u001b[0;34m(\u001b[0m\u001b[0mself\u001b[0m\u001b[0;34m)\u001b[0m\u001b[0;34m:\u001b[0m\u001b[0;34m\u001b[0m\u001b[0;34m\u001b[0m\u001b[0m\n\u001b[1;32m     60\u001b[0m         \u001b[0mprint\u001b[0m\u001b[0;34m(\u001b[0m\u001b[0;34m\"입금 내역:\"\u001b[0m\u001b[0;34m)\u001b[0m\u001b[0;34m\u001b[0m\u001b[0;34m\u001b[0m\u001b[0m\n\u001b[0;32m---> 61\u001b[0;31m         \u001b[0;32mfor\u001b[0m \u001b[0midx\u001b[0m\u001b[0;34m,\u001b[0m \u001b[0mamount\u001b[0m \u001b[0;32min\u001b[0m \u001b[0menumerate\u001b[0m\u001b[0;34m(\u001b[0m\u001b[0mself\u001b[0m\u001b[0;34m.\u001b[0m\u001b[0mdeposit_history_list\u001b[0m\u001b[0;34m,\u001b[0m \u001b[0;36m1\u001b[0m\u001b[0;34m)\u001b[0m\u001b[0;34m:\u001b[0m\u001b[0;34m\u001b[0m\u001b[0;34m\u001b[0m\u001b[0m\n\u001b[0m\u001b[1;32m     62\u001b[0m             \u001b[0mprint\u001b[0m\u001b[0;34m(\u001b[0m\u001b[0;34mf\"{idx}. {amount}원\"\u001b[0m\u001b[0;34m)\u001b[0m\u001b[0;34m\u001b[0m\u001b[0;34m\u001b[0m\u001b[0m\n\u001b[1;32m     63\u001b[0m \u001b[0;34m\u001b[0m\u001b[0m\n",
            "\u001b[0;31mAttributeError\u001b[0m: 'Account' object has no attribute 'deposit_history_list'"
          ]
        }
      ]
    }
  ]
}